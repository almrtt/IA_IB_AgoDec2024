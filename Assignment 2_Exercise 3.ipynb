{
  "cells": [
    {
      "cell_type": "markdown",
      "metadata": {
        "id": "view-in-github",
        "colab_type": "text"
      },
      "source": [
        "<a href=\"https://colab.research.google.com/github/almrtt/IA_IB_AgoDec2024/blob/main/Assignment%202_Exercise%203.ipynb\" target=\"_parent\"><img src=\"https://colab.research.google.com/assets/colab-badge.svg\" alt=\"Open In Colab\"/></a>"
      ]
    },
    {
      "cell_type": "code",
      "source": [
        "import random"
      ],
      "metadata": {
        "id": "J4uCq-4Vfje2"
      },
      "execution_count": null,
      "outputs": []
    },
    {
      "cell_type": "code",
      "execution_count": 19,
      "metadata": {
        "colab": {
          "base_uri": "https://localhost:8080/"
        },
        "id": "H4jvSCSucext",
        "outputId": "7583108b-11df-4eee-e3eb-0f2f0e280002"
      },
      "outputs": [
        {
          "output_type": "stream",
          "name": "stdout",
          "text": [
            "18\n"
          ]
        }
      ],
      "source": [
        "Numbers = list(range(1,50))\n",
        "x = random.choice(Numbers)\n",
        "print(x)\n"
      ]
    },
    {
      "cell_type": "markdown",
      "source": [
        "Guesses\n"
      ],
      "metadata": {
        "id": "ErnuLXORfhLl"
      }
    },
    {
      "cell_type": "code",
      "source": [
        "while True:\n",
        "  guess = int(input(\"Enter a number: \"))\n",
        "\n",
        "  if guess > x:\n",
        "    print(\"the answer is lower\")\n",
        "  elif guess < x:\n",
        "    print(\"the answer is higher \")\n",
        "  elif guess == x:\n",
        "    print(\"You win\")\n",
        "    break\n",
        "\n",
        "\n"
      ],
      "metadata": {
        "colab": {
          "base_uri": "https://localhost:8080/"
        },
        "id": "oeYigxElfsab",
        "outputId": "5ba8319e-1b3c-4ff6-ea9f-61d686b8f108"
      },
      "execution_count": 20,
      "outputs": [
        {
          "output_type": "stream",
          "name": "stdout",
          "text": [
            "Enter a number: 9\n",
            "the answer is higher \n",
            "Enter a number: 18\n",
            "You win\n"
          ]
        }
      ]
    }
  ],
  "metadata": {
    "colab": {
      "name": "Te damos la bienvenida a Colaboratory",
      "toc_visible": true,
      "provenance": [],
      "include_colab_link": true
    },
    "kernelspec": {
      "display_name": "Python 3",
      "name": "python3"
    }
  },
  "nbformat": 4,
  "nbformat_minor": 0
}