{
  "cells": [
    {
      "cell_type": "markdown",
      "metadata": {
        "id": "view-in-github",
        "colab_type": "text"
      },
      "source": [
        "<a href=\"https://colab.research.google.com/github/almrtt/IA_IB_AgoDec2024/blob/main/Assignment%202_Exercise%202.ipynb\" target=\"_parent\"><img src=\"https://colab.research.google.com/assets/colab-badge.svg\" alt=\"Open In Colab\"/></a>"
      ]
    },
    {
      "cell_type": "code",
      "source": [
        "import random\n",
        "\n",
        "\n",
        "songs = [\"ahora te puedes marchar\", \"la incondicional\", \"culpable o no\", \"suave\",\n",
        "         \"tengo todo excepto a ti\", \"entrégate\", \"por debajo de la mesa\", \"la media vuelta\",\n",
        "         \"somos novios\", \"no sé tú\", \"hasta que me olvides\", \"fría como el viento\",\n",
        "         \"amarte es un placer\", \"te necesito\", \"sabor a mí\"]\n",
        "\n",
        "\n",
        "def select_word():\n",
        "    return random.choice(songs)\n",
        "\n",
        "def display_word(word, guessed_letters):\n",
        "    return ' '.join([letter if letter in guessed_letters else '_' if letter != ' ' else ' ' for letter in word])\n",
        "\n",
        "def play_hangman():\n",
        "    word_to_guess = select_word()\n",
        "    guessed_letters = set()\n",
        "    attempts_left = 6\n",
        "\n",
        "\n",
        "\n",
        "    while attempts_left > 0:\n",
        "        print(f\"\\nsong: {display_word(word_to_guess, guessed_letters)}\")\n",
        "        print(f\"Attempts left: {attempts_left}\")\n",
        "\n",
        "\n",
        "        guess = input(\"Enter a letter: \").lower()\n",
        "\n",
        "        if guess in guessed_letters:\n",
        "            print(\"You've already guessed that letter. Try another one.\")\n",
        "            continue\n",
        "\n",
        "        if guess in word_to_guess:\n",
        "            guessed_letters.add(guess)\n",
        "\n",
        "        else:\n",
        "            attempts_left -= 1\n",
        "\n",
        "\n",
        "        if all(letter in guessed_letters or letter == ' ' for letter in word_to_guess):\n",
        "            print(f\"\\nthe song is: {word_to_guess}\")\n",
        "            break\n",
        "    else:\n",
        "        print(f\"\\nOut of attempts. the song is: {word_to_guess}\")\n",
        "\n",
        "\n",
        "if __name__ == \"__main__\":\n",
        "    play_hangman()"
      ],
      "metadata": {
        "id": "6qgXDHF6VTo3",
        "outputId": "0bedab5f-3187-4681-ac8a-00c48c353c07",
        "colab": {
          "base_uri": "https://localhost:8080/"
        }
      },
      "execution_count": 16,
      "outputs": [
        {
          "output_type": "stream",
          "name": "stdout",
          "text": [
            "\n",
            "song: _ _   _ _ _ _ _ _ _ _\n",
            "Attempts left: 6\n",
            "Enter a letter: l\n",
            "\n",
            "song: _ _   _ _ _ _ _ _ _ _\n",
            "Attempts left: 5\n",
            "Enter a letter: a\n",
            "\n",
            "song: _ _   _ _ _ _ _ _ _ _\n",
            "Attempts left: 4\n",
            "Enter a letter: e\n",
            "\n",
            "song: _ e   _ e _ e _ _ _ _\n",
            "Attempts left: 4\n",
            "Enter a letter: t\n",
            "\n",
            "song: t e   _ e _ e _ _ t _\n",
            "Attempts left: 4\n",
            "Enter a letter: n\n",
            "\n",
            "song: t e   n e _ e _ _ t _\n",
            "Attempts left: 4\n",
            "Enter a letter: c\n",
            "\n",
            "song: t e   n e c e _ _ t _\n",
            "Attempts left: 4\n",
            "Enter a letter: s\n",
            "\n",
            "song: t e   n e c e s _ t _\n",
            "Attempts left: 4\n",
            "Enter a letter: i\n",
            "\n",
            "song: t e   n e c e s i t _\n",
            "Attempts left: 4\n",
            "Enter a letter: o\n",
            "\n",
            "the song is: te necesito\n"
          ]
        }
      ]
    }
  ],
  "metadata": {
    "colab": {
      "name": "Te damos la bienvenida a Colaboratory",
      "toc_visible": true,
      "provenance": [],
      "include_colab_link": true
    },
    "kernelspec": {
      "display_name": "Python 3",
      "name": "python3"
    }
  },
  "nbformat": 4,
  "nbformat_minor": 0
}