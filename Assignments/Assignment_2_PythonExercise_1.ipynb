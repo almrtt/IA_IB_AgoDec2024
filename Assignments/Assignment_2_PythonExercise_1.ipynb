{
  "cells": [
    {
      "cell_type": "markdown",
      "metadata": {
        "id": "view-in-github",
        "colab_type": "text"
      },
      "source": [
        "<a href=\"https://colab.research.google.com/github/almrtt/IA_IB_AgoDec2024/blob/main/Assignment_2_PythonExercise_1.ipynb\" target=\"_parent\"><img src=\"https://colab.research.google.com/assets/colab-badge.svg\" alt=\"Open In Colab\"/></a>"
      ]
    },
    {
      "cell_type": "markdown",
      "source": [
        "Text Analysis tool"
      ],
      "metadata": {
        "id": "X1mNWz8JJds4"
      }
    },
    {
      "cell_type": "code",
      "source": [
        "from collections import Counter\n",
        "import re"
      ],
      "metadata": {
        "id": "vhFVncebUSR4"
      },
      "execution_count": null,
      "outputs": []
    },
    {
      "cell_type": "markdown",
      "source": [
        "Amount of words"
      ],
      "metadata": {
        "id": "5KLuk-UKR56Q"
      }
    },
    {
      "cell_type": "code",
      "execution_count": null,
      "metadata": {
        "colab": {
          "base_uri": "https://localhost:8080/"
        },
        "id": "O4zyqrfUJS1g",
        "outputId": "49eae801-01bb-4964-9029-a9189a587ed8"
      },
      "outputs": [
        {
          "output_type": "stream",
          "name": "stdout",
          "text": [
            "introduce the text you want to analyze: So it's not gonna be easy. It's gonna be really hard. We're gonna have to work at this every day, but I want to do that because I want you. I want all of you, for ever, you and me, every day. Will you do something for me, please? Just picture your life for me? 30 years from now, 40 years from now? What's it look like? If it's with him, go. Go! I lost you once, I think I can do it again. If I thought that's what you really wanted. But don't you take the easy way out.\n",
            "the amount of words is: 100\n"
          ]
        }
      ],
      "source": [
        "text = input(\"introduce the text you want to analyze: \")\n",
        "word_list = text.split()\n",
        "print(\"the amount of words is:\" , len(word_list))"
      ]
    },
    {
      "cell_type": "markdown",
      "source": [
        "Amount of sentences"
      ],
      "metadata": {
        "id": "jDdW9VCXSBTB"
      }
    },
    {
      "cell_type": "code",
      "source": [
        "sentence_list = text.split(\". \")\n",
        "print(\"the amount of sentences is:\" , len(sentence_list))"
      ],
      "metadata": {
        "colab": {
          "base_uri": "https://localhost:8080/"
        },
        "id": "F6Z74lLLSDPd",
        "outputId": "e5cc2b76-1c83-45f4-a8fb-eccf11db338e"
      },
      "execution_count": null,
      "outputs": [
        {
          "output_type": "stream",
          "name": "stdout",
          "text": [
            "the amount of sentences is: 8\n"
          ]
        }
      ]
    },
    {
      "cell_type": "markdown",
      "source": [
        "Amount of paragraphs"
      ],
      "metadata": {
        "id": "KDjFN50sSFCy"
      }
    },
    {
      "cell_type": "code",
      "source": [
        "paragraph_list = text.split(\"\\n\")\n",
        "print(\"the amount of paragraphs is:\" , len(paragraph_list))"
      ],
      "metadata": {
        "colab": {
          "base_uri": "https://localhost:8080/"
        },
        "id": "6MaNANllSHM7",
        "outputId": "b23f0353-a273-4835-8648-dd9c59f68c48"
      },
      "execution_count": null,
      "outputs": [
        {
          "output_type": "stream",
          "name": "stdout",
          "text": [
            "the amount of paragraphs is: 1\n"
          ]
        }
      ]
    },
    {
      "cell_type": "markdown",
      "source": [
        "Most common words and frequencies"
      ],
      "metadata": {
        "id": "ZLj_JmeaSx8H"
      }
    },
    {
      "cell_type": "code",
      "source": [
        "words = re.findall(r'\\b\\w+\\b', text.lower())\n",
        "total_length = sum(len(word) for word in words)\n",
        "average_word_length = total_length / len(words)\n",
        "word_counts = Counter(words)\n",
        "most_common_words = word_counts.most_common()\n",
        "print(\"the most common words are:\" , most_common_words)\n",
        "print(\"the average word length is:\" , average_word_length)"
      ],
      "metadata": {
        "colab": {
          "base_uri": "https://localhost:8080/"
        },
        "id": "0GNjb_1jTiKX",
        "outputId": "d71cb133-2788-43cf-9ba9-7760ad16f7bc"
      },
      "execution_count": null,
      "outputs": [
        {
          "output_type": "stream",
          "name": "stdout",
          "text": [
            "the most common words are: [('i', 7), ('you', 7), ('it', 5), ('s', 5), ('gonna', 3), ('want', 3), ('do', 3), ('for', 3), ('me', 3), ('be', 2), ('easy', 2), ('really', 2), ('to', 2), ('every', 2), ('day', 2), ('but', 2), ('that', 2), ('years', 2), ('from', 2), ('now', 2), ('what', 2), ('if', 2), ('go', 2), ('so', 1), ('not', 1), ('hard', 1), ('we', 1), ('re', 1), ('have', 1), ('work', 1), ('at', 1), ('this', 1), ('because', 1), ('all', 1), ('of', 1), ('ever', 1), ('and', 1), ('will', 1), ('something', 1), ('please', 1), ('just', 1), ('picture', 1), ('your', 1), ('life', 1), ('30', 1), ('40', 1), ('look', 1), ('like', 1), ('with', 1), ('him', 1), ('lost', 1), ('once', 1), ('think', 1), ('can', 1), ('again', 1), ('thought', 1), ('wanted', 1), ('don', 1), ('t', 1), ('take', 1), ('the', 1), ('way', 1), ('out', 1)]\n",
            "the average word length is: 3.205607476635514\n"
          ]
        }
      ]
    }
  ],
  "metadata": {
    "colab": {
      "name": "Te damos la bienvenida a Colaboratory",
      "toc_visible": true,
      "provenance": [],
      "include_colab_link": true
    },
    "kernelspec": {
      "display_name": "Python 3",
      "name": "python3"
    }
  },
  "nbformat": 4,
  "nbformat_minor": 0
}
